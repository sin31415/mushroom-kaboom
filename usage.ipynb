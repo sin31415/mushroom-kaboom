{
 "cells": [
  {
   "cell_type": "code",
   "execution_count": 3,
   "id": "3e1f30c1-1d4a-481c-b6e3-cc1ff118de35",
   "metadata": {},
   "outputs": [],
   "source": [
    "from plumber import mlpipe, mlht\n",
    "\n",
    "import pandas as pd\n",
    "\n",
    "df_read = pd.read_csv('mushrooms.csv')"
   ]
  },
  {
   "cell_type": "code",
   "execution_count": 4,
   "id": "68dc4c5c-25ed-40c8-bd85-eb2c3943aebf",
   "metadata": {},
   "outputs": [],
   "source": [
    "from ucimlrepo import fetch_ucirepo \n",
    "  \n",
    "# fetch dataset \n",
    "mushroom = fetch_ucirepo(id=73) \n",
    "\n",
    "X = mushroom.data.features \n",
    "y = mushroom.data.targets \n",
    "\n",
    "df = pd.concat([X, y], axis=1)"
   ]
  },
  {
   "cell_type": "code",
   "execution_count": 5,
   "id": "f543b898-f701-4534-b8f7-7bb171385d9f",
   "metadata": {},
   "outputs": [],
   "source": [
    "pipe = mlpipe(df=df_read,target_column='class',test_size=0.2,random_state=1,display_analytics=False)"
   ]
  },
  {
   "cell_type": "code",
   "execution_count": 6,
   "id": "efba1976-011b-4740-b203-03b931946ba8",
   "metadata": {},
   "outputs": [
    {
     "name": "stdout",
     "output_type": "stream",
     "text": [
      "Dropped features with >=25% missing values: []\n",
      "8124 number of instances remaining.\n",
      "Training Logistic Regression...\n",
      "Training SVM...\n",
      "Training KNN...\n",
      "Training Decision Tree...\n",
      "Training Random Forest...\n",
      "Training Extra Trees...\n",
      "Training Gradient Boosting...\n",
      "Training AdaBoost...\n"
     ]
    },
    {
     "data": {
      "text/html": [
       "<div>\n",
       "<style scoped>\n",
       "    .dataframe tbody tr th:only-of-type {\n",
       "        vertical-align: middle;\n",
       "    }\n",
       "\n",
       "    .dataframe tbody tr th {\n",
       "        vertical-align: top;\n",
       "    }\n",
       "\n",
       "    .dataframe thead th {\n",
       "        text-align: right;\n",
       "    }\n",
       "</style>\n",
       "<table border=\"1\" class=\"dataframe\">\n",
       "  <thead>\n",
       "    <tr style=\"text-align: right;\">\n",
       "      <th></th>\n",
       "      <th>train_accuracy</th>\n",
       "      <th>test_accuracy</th>\n",
       "    </tr>\n",
       "  </thead>\n",
       "  <tbody>\n",
       "    <tr>\n",
       "      <th>Logistic Regression</th>\n",
       "      <td>0.999846</td>\n",
       "      <td>0.998154</td>\n",
       "    </tr>\n",
       "    <tr>\n",
       "      <th>SVM</th>\n",
       "      <td>1.0</td>\n",
       "      <td>1.0</td>\n",
       "    </tr>\n",
       "    <tr>\n",
       "      <th>KNN</th>\n",
       "      <td>1.0</td>\n",
       "      <td>1.0</td>\n",
       "    </tr>\n",
       "    <tr>\n",
       "      <th>Decision Tree</th>\n",
       "      <td>1.0</td>\n",
       "      <td>1.0</td>\n",
       "    </tr>\n",
       "    <tr>\n",
       "      <th>Random Forest</th>\n",
       "      <td>1.0</td>\n",
       "      <td>1.0</td>\n",
       "    </tr>\n",
       "    <tr>\n",
       "      <th>Extra Trees</th>\n",
       "      <td>1.0</td>\n",
       "      <td>1.0</td>\n",
       "    </tr>\n",
       "    <tr>\n",
       "      <th>Gradient Boosting</th>\n",
       "      <td>1.0</td>\n",
       "      <td>1.0</td>\n",
       "    </tr>\n",
       "    <tr>\n",
       "      <th>AdaBoost</th>\n",
       "      <td>1.0</td>\n",
       "      <td>1.0</td>\n",
       "    </tr>\n",
       "  </tbody>\n",
       "</table>\n",
       "</div>"
      ],
      "text/plain": [
       "                    train_accuracy test_accuracy\n",
       "Logistic Regression       0.999846      0.998154\n",
       "SVM                            1.0           1.0\n",
       "KNN                            1.0           1.0\n",
       "Decision Tree                  1.0           1.0\n",
       "Random Forest                  1.0           1.0\n",
       "Extra Trees                    1.0           1.0\n",
       "Gradient Boosting              1.0           1.0\n",
       "AdaBoost                       1.0           1.0"
      ]
     },
     "metadata": {},
     "output_type": "display_data"
    },
    {
     "name": "stdout",
     "output_type": "stream",
     "text": [
      "The best model is SVM with a test accuracy of 1.0000.\n"
     ]
    },
    {
     "data": {
      "text/plain": [
       "<Figure size 1200x2400 with 0 Axes>"
      ]
     },
     "metadata": {},
     "output_type": "display_data"
    }
   ],
   "source": [
    "pipe.run_pipeline(drop_max_na_col_in=True,drop_threshold_in=0.25)"
   ]
  },
  {
   "cell_type": "code",
   "execution_count": null,
   "id": "db86650b-dc47-4871-bb29-3e3f924f769e",
   "metadata": {},
   "outputs": [],
   "source": [
    "pipe.get_feature_importance()"
   ]
  },
  {
   "cell_type": "code",
   "execution_count": null,
   "id": "5d83eadb-5c27-44ab-a9d7-72203424f967",
   "metadata": {},
   "outputs": [],
   "source": [
    "my_model=pipe.user_model_return()"
   ]
  },
  {
   "cell_type": "code",
   "execution_count": null,
   "id": "6ab42117-ef88-4ce1-b01d-1d0d604d1c13",
   "metadata": {},
   "outputs": [],
   "source": [
    "pipe.get_feature_importance()\n",
    "\n",
    "pipe.visualize_decision_tree()"
   ]
  },
  {
   "cell_type": "code",
   "execution_count": null,
   "id": "da592bdf-9289-41e5-ae19-5ea1d5f29284",
   "metadata": {},
   "outputs": [],
   "source": [
    "ht = mlht(model=my_model, pipeline=pipe, cores=2)"
   ]
  },
  {
   "cell_type": "code",
   "execution_count": null,
   "id": "334933d1-b354-41f0-86cf-efe2b143a04a",
   "metadata": {},
   "outputs": [],
   "source": [
    "ht.run_tuning()"
   ]
  },
  {
   "cell_type": "code",
   "execution_count": null,
   "id": "00093b9c-ef4a-4e7a-8752-2b28e918c7e2",
   "metadata": {},
   "outputs": [],
   "source": [
    "tm = ht.tuned_model"
   ]
  },
  {
   "cell_type": "code",
   "execution_count": null,
   "id": "712628ef-dfd7-4a88-9375-8556af942b43",
   "metadata": {},
   "outputs": [],
   "source": [
    "tm"
   ]
  },
  {
   "cell_type": "markdown",
   "id": "4ab4ad99-3821-48a2-8946-a18fe51dd48c",
   "metadata": {
    "jp-MarkdownHeadingCollapsed": true
   },
   "source": [
    "# DATA BALANCE:"
   ]
  },
  {
   "cell_type": "code",
   "execution_count": null,
   "id": "c6c70459-3355-4882-a82c-c19f01cb06ed",
   "metadata": {},
   "outputs": [],
   "source": [
    "import pandas as pd\n",
    "import matplotlib.pyplot as plt\n",
    "import seaborn as sns\n",
    "from matplotlib.patches import Rectangle\n",
    "\n",
    "# Example Series\n",
    "data = df_read['class']\n",
    "\n",
    "# Count occurrences of 'e' and 'p'\n",
    "value_counts = data.value_counts()\n",
    "\n",
    "# Create the bar plot\n",
    "fig, ax = plt.subplots(figsize=(8, 6))\n",
    "\n",
    "# Create custom gradient color for each bar\n",
    "colors = sns.color_palette(\"Purples\", len(value_counts))\n",
    "\n",
    "bars = ax.bar(value_counts.index, value_counts.values)\n",
    "\n",
    "# Apply gradient to each bar\n",
    "for bar, color in zip(bars, colors):\n",
    "    bar.set_facecolor(color)\n",
    "\n",
    "# Adding labels and title\n",
    "ax.set_title('Target class balance')\n",
    "ax.set_xlabel('Target')\n",
    "ax.set_ylabel('Instances')\n",
    "\n",
    "# Display the plot\n",
    "plt.show()"
   ]
  },
  {
   "cell_type": "code",
   "execution_count": null,
   "id": "df324330-6146-472b-94a8-5725cec31f7e",
   "metadata": {},
   "outputs": [],
   "source": []
  }
 ],
 "metadata": {
  "kernelspec": {
   "display_name": "Python 3 (ipykernel)",
   "language": "python",
   "name": "python3"
  },
  "language_info": {
   "codemirror_mode": {
    "name": "ipython",
    "version": 3
   },
   "file_extension": ".py",
   "mimetype": "text/x-python",
   "name": "python",
   "nbconvert_exporter": "python",
   "pygments_lexer": "ipython3",
   "version": "3.11.7"
  }
 },
 "nbformat": 4,
 "nbformat_minor": 5
}
