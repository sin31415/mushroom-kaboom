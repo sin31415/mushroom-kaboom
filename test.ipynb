{
 "cells": [
  {
   "cell_type": "code",
   "execution_count": 29,
   "id": "ad41c818-3f56-4c03-ae71-29d9d786e602",
   "metadata": {},
   "outputs": [],
   "source": [
    "from hybridpipe import mlpipe, mlht"
   ]
  },
  {
   "cell_type": "code",
   "execution_count": null,
   "id": "bd9ddc42-33e6-4d14-98ec-4826d8fdaa28",
   "metadata": {},
   "outputs": [],
   "source": []
  }
 ],
 "metadata": {
  "kernelspec": {
   "display_name": "Python 3 (ipykernel)",
   "language": "python",
   "name": "python3"
  },
  "language_info": {
   "codemirror_mode": {
    "name": "ipython",
    "version": 3
   },
   "file_extension": ".py",
   "mimetype": "text/x-python",
   "name": "python",
   "nbconvert_exporter": "python",
   "pygments_lexer": "ipython3",
   "version": "3.11.7"
  }
 },
 "nbformat": 4,
 "nbformat_minor": 5
}
