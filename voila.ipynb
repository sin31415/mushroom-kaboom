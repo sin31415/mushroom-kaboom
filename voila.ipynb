{
 "cells": [
  {
   "cell_type": "code",
   "execution_count": 3,
   "id": "09aca6af-f56b-4e65-83a8-e27da4706ce2",
   "metadata": {},
   "outputs": [
    {
     "data": {
      "application/vnd.jupyter.widget-view+json": {
       "model_id": "2ed9fb18dbd94b88886096d89dad92e9",
       "version_major": 2,
       "version_minor": 0
      },
      "text/plain": [
       "Dropdown(description='Model:', options=('Decision Tree', 'Random Forest', 'Logistic Regression'), value='Decis…"
      ]
     },
     "metadata": {},
     "output_type": "display_data"
    },
    {
     "data": {
      "application/vnd.jupyter.widget-view+json": {
       "model_id": "a2a7386476434ce6bcaafc909653ad0b",
       "version_major": 2,
       "version_minor": 0
      },
      "text/plain": [
       "Button(description='Run Pipeline', style=ButtonStyle())"
      ]
     },
     "metadata": {},
     "output_type": "display_data"
    },
    {
     "data": {
      "application/vnd.jupyter.widget-view+json": {
       "model_id": "695de0be76984b1b80881a08006f7838",
       "version_major": 2,
       "version_minor": 0
      },
      "text/plain": [
       "Output()"
      ]
     },
     "metadata": {},
     "output_type": "display_data"
    }
   ],
   "source": [
    "# import pandas as pd\n",
    "# from test import MLClassifierPipeline\n",
    "# from ucimlrepo import fetch_ucirepo\n",
    "# import ipywidgets as widgets\n",
    "# from IPython.display import display\n",
    "\n",
    "# # Fetch dataset\n",
    "# mushroom = fetch_ucirepo(id=73)\n",
    "\n",
    "# # Data (as pandas DataFrames)\n",
    "# X = mushroom.data.features\n",
    "# y = mushroom.data.targets\n",
    "\n",
    "# # Combine features and target into a single DataFrame\n",
    "# df = pd.concat([X, y], axis=1)\n",
    "\n",
    "# # Create a dropdown widget for selecting the model\n",
    "# model_dropdown = widgets.Dropdown(\n",
    "#     options=['Decision Tree', 'Random Forest', 'Logistic Regression'],\n",
    "#     value='Decision Tree',\n",
    "#     description='Model:'\n",
    "# )\n",
    "\n",
    "# # Button to run the pipeline\n",
    "# run_button = widgets.Button(description=\"Run Pipeline\")\n",
    "# output = widgets.Output()\n",
    "\n",
    "# # Define a function to run the pipeline\n",
    "# def run_pipeline(b):\n",
    "#     with output:\n",
    "#         output.clear_output()  # Clear previous output\n",
    "#         # Initialize the pipeline\n",
    "#         pipeline = MLClassifierPipeline(\n",
    "#             df=df,\n",
    "#             target_column='poisonous',  # Replace with your target column name\n",
    "#             display_analytics=True\n",
    "#         )\n",
    "#         pipeline.run_pipeline()\n",
    "#         pipeline.get_feature_importance()\n",
    "\n",
    "#         # Load the selected model\n",
    "#         loaded_model = pipeline.load_model(model_dropdown.value)\n",
    "#         if loaded_model is not None:\n",
    "#             predictions = loaded_model.predict(pipeline.X_test)\n",
    "#             print(\"Predictions:\")\n",
    "#             print(predictions)\n",
    "\n",
    "# # Connect the button to the function\n",
    "# run_button.on_click(run_pipeline)\n",
    "\n",
    "# # Display widgets and output area\n",
    "# display(model_dropdown, run_button, output)\n"
   ]
  },
  {
   "cell_type": "code",
   "execution_count": 2,
   "id": "dea7fe33-cd3f-4828-9ebc-b533fc01a70d",
   "metadata": {},
   "outputs": [
    {
     "data": {
      "application/vnd.jupyter.widget-view+json": {
       "model_id": "6fb7fa0eb50c43308824212bd8634c30",
       "version_major": 2,
       "version_minor": 0
      },
      "text/plain": [
       "IntSlider(value=50)"
      ]
     },
     "metadata": {},
     "output_type": "display_data"
    }
   ],
   "source": [
    "# import ipywidgets as widgets\n",
    "# from IPython.display import display\n",
    "\n",
    "# slider = widgets.IntSlider(value=50)\n",
    "# display(slider)\n"
   ]
  },
  {
   "cell_type": "code",
   "execution_count": 4,
   "id": "935430ba-401d-4ea3-8218-222c5681a5ef",
   "metadata": {},
   "outputs": [
    {
     "data": {
      "application/vnd.jupyter.widget-view+json": {
       "model_id": "8fdef89b935e4565a231d1aff9546dfe",
       "version_major": 2,
       "version_minor": 0
      },
      "text/plain": [
       "Dropdown(description='Model:', options=('Decision Tree', 'Random Forest', 'Logistic Regression'), value='Decis…"
      ]
     },
     "metadata": {},
     "output_type": "display_data"
    },
    {
     "data": {
      "application/vnd.jupyter.widget-view+json": {
       "model_id": "6789ff6b118e44b5a6429f7fd2320f30",
       "version_major": 2,
       "version_minor": 0
      },
      "text/plain": [
       "Button(description='Run Pipeline', style=ButtonStyle())"
      ]
     },
     "metadata": {},
     "output_type": "display_data"
    },
    {
     "data": {
      "application/vnd.jupyter.widget-view+json": {
       "model_id": "627cdc5545424b7cab075da338417f6e",
       "version_major": 2,
       "version_minor": 0
      },
      "text/plain": [
       "Output()"
      ]
     },
     "metadata": {},
     "output_type": "display_data"
    }
   ],
   "source": [
    "# import pandas as pd\n",
    "# from test import MLClassifierPipeline\n",
    "# from ucimlrepo import fetch_ucirepo\n",
    "# import ipywidgets as widgets\n",
    "# from IPython.display import display\n",
    "\n",
    "# # Fetch dataset\n",
    "# mushroom = fetch_ucirepo(id=73)\n",
    "\n",
    "# # Data (as pandas DataFrames)\n",
    "# X = mushroom.data.features\n",
    "# y = mushroom.data.targets\n",
    "\n",
    "# # Combine features and target into a single DataFrame\n",
    "# df = pd.concat([X, y], axis=1)\n",
    "\n",
    "# # Create a dropdown widget for selecting the model\n",
    "# model_dropdown = widgets.Dropdown(\n",
    "#     options=['Decision Tree', 'Random Forest', 'Logistic Regression'],\n",
    "#     value='Decision Tree',\n",
    "#     description='Model:'\n",
    "# )\n",
    "\n",
    "# # Button to run the pipeline\n",
    "# run_button = widgets.Button(description=\"Run Pipeline\")\n",
    "# output = widgets.Output()\n",
    "\n",
    "# # Create a list to hold the dropdowns for each feature\n",
    "# feature_dropdowns = {}\n",
    "\n",
    "# # Function to create dropdowns for feature values\n",
    "# def create_feature_dropdowns():\n",
    "#     for feature in X.columns:\n",
    "#         unique_values = X[feature].unique().tolist()\n",
    "#         feature_dropdowns[feature] = widgets.Dropdown(\n",
    "#             options=unique_values,\n",
    "#             description=feature,\n",
    "#             value=unique_values[0]  # Set the default to the first unique value\n",
    "#         )\n",
    "#     # Display the dropdowns\n",
    "#     display(*feature_dropdowns.values())\n",
    "\n",
    "# # Define a function to run the pipeline\n",
    "# def run_pipeline(b):\n",
    "#     with output:\n",
    "#         output.clear_output()  # Clear previous output\n",
    "#         # Initialize the pipeline\n",
    "#         pipeline = MLClassifierPipeline(\n",
    "#             df=df,\n",
    "#             target_column='poisonous',  # Replace with your target column name\n",
    "#             display_analytics=True\n",
    "#         )\n",
    "#         pipeline.run_pipeline()\n",
    "#         pipeline.get_feature_importance()\n",
    "\n",
    "#         # Load the selected model\n",
    "#         loaded_model = pipeline.load_model(model_dropdown.value)\n",
    "#         if loaded_model is not None:\n",
    "#             predictions = loaded_model.predict(pipeline.X_test)\n",
    "#             print(\"Predictions:\")\n",
    "#             print(predictions)\n",
    "        \n",
    "#         # Create feature dropdowns after the pipeline is run\n",
    "#         create_feature_dropdowns()\n",
    "\n",
    "#         # Create a button to make predictions based on custom inputs\n",
    "#         predict_button = widgets.Button(description=\"Make Prediction\")\n",
    "#         predict_button.on_click(make_prediction)\n",
    "#         display(predict_button)\n",
    "\n",
    "# # Function to create a custom input row and make predictions\n",
    "# def make_prediction(b):\n",
    "#     custom_input = {}\n",
    "#     for feature, dropdown in feature_dropdowns.items():\n",
    "#         custom_input[feature] = [dropdown.value]\n",
    "    \n",
    "#     # Convert the custom input to a DataFrame\n",
    "#     custom_input_df = pd.DataFrame(custom_input)\n",
    "    \n",
    "#     # Use the trained model to make a prediction\n",
    "#     loaded_model = pipeline.load_model(model_dropdown.value)\n",
    "#     if loaded_model is not None:\n",
    "#         prediction = loaded_model.predict(custom_input_df)\n",
    "#         print(f\"Custom Input Prediction: {prediction}\")\n",
    "\n",
    "# # Connect the button to the function\n",
    "# run_button.on_click(run_pipeline)\n",
    "\n",
    "# # Display widgets and output area\n",
    "# display(model_dropdown, run_button, output)\n"
   ]
  },
  {
   "cell_type": "code",
   "execution_count": 14,
   "id": "e7638245-2853-42ce-8a37-4cbe71a6108e",
   "metadata": {
    "scrolled": true
   },
   "outputs": [
    {
     "data": {
      "application/vnd.jupyter.widget-view+json": {
       "model_id": "01553ba47b4847d893864ff314fd9356",
       "version_major": 2,
       "version_minor": 0
      },
      "text/plain": [
       "Dropdown(description='Model:', options=('Decision Tree', 'Random Forest', 'Logistic Regression'), value='Decis…"
      ]
     },
     "metadata": {},
     "output_type": "display_data"
    },
    {
     "data": {
      "application/vnd.jupyter.widget-view+json": {
       "model_id": "3cea30bf0e1d469ea882c1eff99d9d6f",
       "version_major": 2,
       "version_minor": 0
      },
      "text/plain": [
       "Button(description='Run Pipeline', style=ButtonStyle())"
      ]
     },
     "metadata": {},
     "output_type": "display_data"
    },
    {
     "data": {
      "application/vnd.jupyter.widget-view+json": {
       "model_id": "887a00e214b64320928b70ef0cc734ee",
       "version_major": 2,
       "version_minor": 0
      },
      "text/plain": [
       "Output()"
      ]
     },
     "metadata": {},
     "output_type": "display_data"
    }
   ],
   "source": [
    "# import pandas as pd\n",
    "# from test import MLClassifierPipeline\n",
    "# from ucimlrepo import fetch_ucirepo\n",
    "# import ipywidgets as widgets\n",
    "# from sklearn.preprocessing import LabelEncoder\n",
    "# from IPython.display import display\n",
    "\n",
    "# # Fetch dataset\n",
    "# mushroom = fetch_ucirepo(id=73)\n",
    "\n",
    "# # Data (as pandas DataFrames)\n",
    "# X = mushroom.data.features\n",
    "# y = mushroom.data.targets\n",
    "\n",
    "# # Combine features and target into a single DataFrame\n",
    "# df = pd.concat([X, y], axis=1)\n",
    "\n",
    "# # Create a dropdown widget for selecting the model\n",
    "# model_dropdown = widgets.Dropdown(\n",
    "#     options=['Decision Tree', 'Random Forest', 'Logistic Regression'],\n",
    "#     value='Decision Tree',\n",
    "#     description='Model:'\n",
    "# )\n",
    "\n",
    "# # Button to run the pipeline\n",
    "# run_button = widgets.Button(description=\"Run Pipeline\")\n",
    "# output = widgets.Output()\n",
    "\n",
    "# # Create a dictionary to hold LabelEncoders for each categorical feature\n",
    "# label_encoders = {}\n",
    "\n",
    "# # Create a list to hold the dropdowns for each feature\n",
    "# feature_dropdowns = {}\n",
    "\n",
    "# # Function to create dropdowns for feature values\n",
    "# def create_feature_dropdowns():\n",
    "#     for feature in X.columns:\n",
    "#         unique_values = X[feature].unique().tolist()\n",
    "#         feature_dropdowns[feature] = widgets.Dropdown(\n",
    "#             options=unique_values,\n",
    "#             description=feature,\n",
    "#             value=unique_values[0]  # Set the default to the first unique value\n",
    "#         )\n",
    "#     # Display the dropdowns\n",
    "#     display(*feature_dropdowns.values())\n",
    "\n",
    "# # Define a function to run the pipeline\n",
    "# def run_pipeline(b):\n",
    "#     global pipeline  # Make sure the pipeline variable is globally accessible\n",
    "#     with output:\n",
    "#         output.clear_output()  # Clear previous output\n",
    "#         print(\"Pipeline running...\")  # Debugging print\n",
    "\n",
    "#         # Initialize the pipeline\n",
    "#         pipeline = MLClassifierPipeline(\n",
    "#             df=df,\n",
    "#             target_column='poisonous',  # Replace with your target column name\n",
    "#             display_analytics=True\n",
    "#         )\n",
    "#         pipeline.run_pipeline()\n",
    "#         pipeline.get_feature_importance()\n",
    "\n",
    "#         # Load the selected model\n",
    "#         loaded_model = pipeline.load_model(model_dropdown.value)\n",
    "#         if loaded_model is not None:\n",
    "#             predictions = loaded_model.predict(pipeline.X_test)\n",
    "#             print(\"Predictions on test set:\")  # Debugging print\n",
    "#             print(predictions)\n",
    "\n",
    "#         # Apply encoding on categorical features (this assumes you used LabelEncoder)\n",
    "#         for feature in X.columns:\n",
    "#             if X[feature].dtype == 'object':\n",
    "#                 le = LabelEncoder()\n",
    "#                 X.loc[:, feature] = le.fit_transform(X[feature])\n",
    "#                 label_encoders[feature] = le\n",
    "\n",
    "#         # Create feature dropdowns after the pipeline is run\n",
    "#         create_feature_dropdowns()\n",
    "\n",
    "#         # Create a button to make predictions based on custom inputs\n",
    "#         predict_button = widgets.Button(description=\"Make Prediction\")\n",
    "#         predict_button.on_click(make_prediction)\n",
    "#         display(predict_button)\n",
    "\n",
    "# # Function to create a custom input row and make predictions\n",
    "# def make_prediction(b):\n",
    "#     print(\"Make Prediction button clicked...\")  # Debugging print\n",
    "\n",
    "#     custom_input = {}\n",
    "#     for feature, dropdown in feature_dropdowns.items():\n",
    "#         custom_input[feature] = [dropdown.value]\n",
    "\n",
    "#     # Convert the custom input to a DataFrame\n",
    "#     custom_input_df = pd.DataFrame(custom_input)\n",
    "#     print(\"Custom input dataframe created:\")  # Debugging print\n",
    "#     print(custom_input_df)\n",
    "\n",
    "#     # Apply the same encoding used in the pipeline to the custom input\n",
    "#     for feature in custom_input_df.columns:\n",
    "#         if feature in label_encoders:  # If a LabelEncoder was used for this feature\n",
    "#             custom_input_df[feature] = label_encoders[feature].transform(custom_input_df[feature])\n",
    "\n",
    "#     print(\"Custom input dataframe after encoding:\")  # Debugging print\n",
    "#     print(custom_input_df)\n",
    "\n",
    "#     with output:\n",
    "#         output.clear_output(wait=True)\n",
    "#         # Ensure we use the selected model to make predictions\n",
    "#         loaded_model = pipeline.load_model(model_dropdown.value)\n",
    "#         if loaded_model is not None:\n",
    "#             try:\n",
    "#                 # Make predictions\n",
    "#                 print(\"Model loaded successfully. Making prediction...\")  # Debugging print\n",
    "#                 prediction = loaded_model.predict(custom_input_df)\n",
    "#                 print(f\"Custom Input Prediction: {prediction}\")\n",
    "#             except Exception as e:\n",
    "#                 print(f\"Error during prediction: {e}\")\n",
    "#         else:\n",
    "#             print(\"Model not loaded properly. Please run the pipeline first.\")\n",
    "\n",
    "# # Connect the button to the function\n",
    "# run_button.on_click(run_pipeline)\n",
    "\n",
    "# # Display widgets and output area\n",
    "# display(model_dropdown, run_button, output)\n"
   ]
  },
  {
   "cell_type": "code",
   "execution_count": 16,
   "id": "ff8e50ea-caea-4ed8-bd58-636ec2b54fb6",
   "metadata": {},
   "outputs": [
    {
     "data": {
      "application/vnd.jupyter.widget-view+json": {
       "model_id": "a61a43b334dc4d1fa005153363466e01",
       "version_major": 2,
       "version_minor": 0
      },
      "text/plain": [
       "Button(description='Run Pipeline', style=ButtonStyle())"
      ]
     },
     "metadata": {},
     "output_type": "display_data"
    },
    {
     "data": {
      "application/vnd.jupyter.widget-view+json": {
       "model_id": "6732da38539a4dfc9390e17c74bccf7b",
       "version_major": 2,
       "version_minor": 0
      },
      "text/plain": [
       "Output()"
      ]
     },
     "metadata": {},
     "output_type": "display_data"
    }
   ],
   "source": [
    "# import ipywidgets as widgets\n",
    "# from IPython.display import display\n",
    "\n",
    "# # Button to run the pipeline\n",
    "# run_button = widgets.Button(description=\"Run Pipeline\")\n",
    "# output = widgets.Output()\n",
    "\n",
    "# # Function to simulate running the pipeline\n",
    "# def run_pipeline(b):\n",
    "#     with output:\n",
    "#         output.clear_output()  # Clear previous output\n",
    "#         print(\"Pipeline running...\")  # Debugging print\n",
    "\n",
    "#         # Simulate successful pipeline run\n",
    "#         print(\"Pipeline finished. Now creating prediction button...\")\n",
    "\n",
    "#         # Create a button to make predictions based on custom inputs\n",
    "#         predict_button = widgets.Button(description=\"Make Prediction\")\n",
    "\n",
    "#         # Function to simulate making a prediction\n",
    "#         def make_prediction(b):\n",
    "#             with output:\n",
    "#                 output.clear_output(wait=True)\n",
    "#                 print(\"Make Prediction button clicked...\")  # Debugging print\n",
    "#                 print(\"Prediction process executed.\")\n",
    "\n",
    "#         # Connect the predict button to the prediction function\n",
    "#         predict_button.on_click(make_prediction)\n",
    "\n",
    "#         # Display the new button for predictions\n",
    "#         display(predict_button)\n",
    "\n",
    "# # Connect the run button to the pipeline function\n",
    "# run_button.on_click(run_pipeline)\n",
    "\n",
    "# # Display the initial run button and output area\n",
    "# display(run_button, output)\n"
   ]
  },
  {
   "cell_type": "code",
   "execution_count": 18,
   "id": "6088b20b-dce1-4d57-a28f-543920d5daef",
   "metadata": {},
   "outputs": [
    {
     "data": {
      "application/vnd.jupyter.widget-view+json": {
       "model_id": "c761c527b3bd4ca9b80bfd8588dc8a08",
       "version_major": 2,
       "version_minor": 0
      },
      "text/plain": [
       "Button(description='Run Pipeline', style=ButtonStyle())"
      ]
     },
     "metadata": {},
     "output_type": "display_data"
    },
    {
     "data": {
      "application/vnd.jupyter.widget-view+json": {
       "model_id": "7db5238888934ab3ab9f90f4981c3416",
       "version_major": 2,
       "version_minor": 0
      },
      "text/plain": [
       "Output()"
      ]
     },
     "metadata": {},
     "output_type": "display_data"
    }
   ],
   "source": [
    "# import pandas as pd\n",
    "# import ipywidgets as widgets\n",
    "# from IPython.display import display\n",
    "\n",
    "# # Simulated data (replace this with actual data if necessary)\n",
    "# columns = ['feature1', 'feature2', 'feature3']\n",
    "# data = [['a', 'x', 'p'], ['b', 'y', 'q'], ['c', 'z', 'r']]\n",
    "# df = pd.DataFrame(data, columns=columns)\n",
    "\n",
    "# # Create a dictionary to hold dropdowns for each feature\n",
    "# feature_dropdowns = {}\n",
    "\n",
    "# # Button to run the pipeline\n",
    "# run_button = widgets.Button(description=\"Run Pipeline\")\n",
    "# output = widgets.Output()\n",
    "\n",
    "# # Function to create dropdowns for feature values\n",
    "# def create_feature_dropdowns():\n",
    "#     with output:\n",
    "#         output.clear_output()  # Clear previous output\n",
    "#         print(\"Pipeline running...\")\n",
    "\n",
    "#         # Simulate pipeline finished\n",
    "#         print(\"Pipeline finished. Creating dropdowns for feature selection...\")\n",
    "\n",
    "#         # Create a dropdown for each feature based on unique values\n",
    "#         for feature in df.columns:\n",
    "#             unique_values = df[feature].unique().tolist()\n",
    "#             feature_dropdowns[feature] = widgets.Dropdown(\n",
    "#                 options=unique_values,\n",
    "#                 description=feature,\n",
    "#                 value=unique_values[0]  # Set default to first unique value\n",
    "#             )\n",
    "#         display(*feature_dropdowns.values())\n",
    "\n",
    "#         # Create a button to make predictions based on custom inputs\n",
    "#         predict_button = widgets.Button(description=\"Make Prediction\")\n",
    "#         predict_button.on_click(make_prediction)\n",
    "#         display(predict_button)\n",
    "\n",
    "# # Function to handle the \"Make Prediction\" button click\n",
    "# def make_prediction(b):\n",
    "#     with output:\n",
    "#         output.clear_output(wait=True)\n",
    "#         print(\"Make Prediction button clicked...\")\n",
    "\n",
    "#         # Collect custom inputs from the dropdown selections\n",
    "#         custom_input = {feature: dropdown.value for feature, dropdown in feature_dropdowns.items()}\n",
    "#         custom_input_df = pd.DataFrame([custom_input])\n",
    "\n",
    "#         print(\"Custom input created:\")\n",
    "#         print(custom_input_df)\n",
    "\n",
    "#         # Simulate making a prediction (replace with actual model prediction logic)\n",
    "#         print(\"Prediction process executed.\")\n",
    "#         print(f\"Predicted value for custom input: {custom_input_df.values}\")\n",
    "\n",
    "# # Connect the run button to the pipeline function\n",
    "# run_button.on_click(create_feature_dropdowns)\n",
    "\n",
    "# # Display the initial run button and output area\n",
    "# display(run_button, output)\n"
   ]
  },
  {
   "cell_type": "code",
   "execution_count": 20,
   "id": "1600919b-182c-40c8-ae4a-0221242ced3c",
   "metadata": {},
   "outputs": [
    {
     "data": {
      "application/vnd.jupyter.widget-view+json": {
       "model_id": "700fba4c3b5d48abbacd6c47ea7d02b6",
       "version_major": 2,
       "version_minor": 0
      },
      "text/plain": [
       "Button(description='Run Pipeline', style=ButtonStyle())"
      ]
     },
     "metadata": {},
     "output_type": "display_data"
    },
    {
     "data": {
      "application/vnd.jupyter.widget-view+json": {
       "model_id": "f53c4e58a26c4b278b8cdb31409086d0",
       "version_major": 2,
       "version_minor": 0
      },
      "text/plain": [
       "Output()"
      ]
     },
     "metadata": {},
     "output_type": "display_data"
    }
   ],
   "source": []
  },
  {
   "cell_type": "code",
   "execution_count": 22,
   "id": "0277876e-28fa-4f07-bc9f-5415d56ad326",
   "metadata": {},
   "outputs": [
    {
     "data": {
      "application/vnd.jupyter.widget-view+json": {
       "model_id": "1be820a112c84a78b26ac56002ef9f91",
       "version_major": 2,
       "version_minor": 0
      },
      "text/plain": [
       "Button(description='Run Pipeline', style=ButtonStyle())"
      ]
     },
     "metadata": {},
     "output_type": "display_data"
    },
    {
     "data": {
      "application/vnd.jupyter.widget-view+json": {
       "model_id": "fd209fa1f37f4870848f3dca87346fee",
       "version_major": 2,
       "version_minor": 0
      },
      "text/plain": [
       "Output()"
      ]
     },
     "metadata": {},
     "output_type": "display_data"
    }
   ],
   "source": []
  },
  {
   "cell_type": "code",
   "execution_count": 28,
   "id": "b0595dd7-89d9-48f8-9f5a-cafac3bde533",
   "metadata": {},
   "outputs": [
    {
     "data": {
      "application/vnd.jupyter.widget-view+json": {
       "model_id": "46d40fae7de047fe8bb9e991ec68f458",
       "version_major": 2,
       "version_minor": 0
      },
      "text/plain": [
       "Button(description='Run Pipeline', style=ButtonStyle())"
      ]
     },
     "metadata": {},
     "output_type": "display_data"
    },
    {
     "data": {
      "application/vnd.jupyter.widget-view+json": {
       "model_id": "afb93555f7c042d8acb1acf830094056",
       "version_major": 2,
       "version_minor": 0
      },
      "text/plain": [
       "Output()"
      ]
     },
     "metadata": {},
     "output_type": "display_data"
    }
   ],
   "source": [
    "# import pandas as pd\n",
    "# import ipywidgets as widgets\n",
    "# from IPython.display import display\n",
    "# from sklearn.neighbors import KNeighborsClassifier\n",
    "# from sklearn.pipeline import Pipeline\n",
    "# from sklearn.metrics import accuracy_score, precision_score, recall_score\n",
    "# from sklearn.preprocessing import LabelEncoder\n",
    "# from test import MLClassifierPipeline  # Assuming this is your pipeline\n",
    "\n",
    "# # Simulated data with a target column 'poisonous'\n",
    "# columns = ['feature1', 'feature2', 'feature3', 'poisonous']\n",
    "# data = [['a', 'x', 'p', 0], ['b', 'y', 'q', 1], ['c', 'z', 'r', 0]]\n",
    "# df = pd.DataFrame(data, columns=columns)\n",
    "\n",
    "# # Encode categorical features (Label Encoding)\n",
    "# label_encoders = {}\n",
    "# for feature in ['feature1', 'feature2', 'feature3']:\n",
    "#     le = LabelEncoder()\n",
    "#     df[feature] = le.fit_transform(df[feature])\n",
    "#     label_encoders[feature] = le\n",
    "\n",
    "# # Create a dictionary to hold dropdowns for each feature\n",
    "# feature_dropdowns = {}\n",
    "\n",
    "# # Button to run the pipeline\n",
    "# run_button = widgets.Button(description=\"Run Pipeline\")\n",
    "# output = widgets.Output()\n",
    "\n",
    "# # Placeholder for the model pipeline\n",
    "# pipeline = None\n",
    "\n",
    "# # Function to create dropdowns for feature values\n",
    "# def create_feature_dropdowns(b):\n",
    "#     global pipeline  # Make sure pipeline is accessible in prediction\n",
    "#     with output:\n",
    "#         output.clear_output()  # Clear previous output\n",
    "#         print(\"Pipeline running...\")  # Debugging print\n",
    "        \n",
    "#         # Initialize and run your pipeline\n",
    "#         pipeline = MLClassifierPipeline(df=df, target_column='poisonous', display_analytics=True)\n",
    "        \n",
    "#         # Adjust n_neighbors based on the size of the dataset\n",
    "#         n_neighbors = min(2, len(df))\n",
    "        \n",
    "#         # Set up the KNeighborsClassifier with adjusted n_neighbors\n",
    "#         knn_model = KNeighborsClassifier(n_neighbors=n_neighbors)\n",
    "        \n",
    "#         # Train and predict\n",
    "#         pipeline.run_pipeline(knn_model=knn_model)\n",
    "#         pipeline.get_feature_importance()\n",
    "        \n",
    "#         print(\"Pipeline finished. Creating dropdowns for feature selection...\")\n",
    "\n",
    "#         # Create a dropdown for each feature (excluding the target column) based on unique values\n",
    "#         for feature in df.drop('poisonous', axis=1).columns:\n",
    "#             unique_values = df[feature].unique().tolist()\n",
    "#             feature_dropdowns[feature] = widgets.Dropdown(\n",
    "#                 options=unique_values,\n",
    "#                 description=feature,\n",
    "#                 value=unique_values[0]  # Set default to first unique value\n",
    "#             )\n",
    "#         display(*feature_dropdowns.values())  # Display dropdowns\n",
    "        \n",
    "#         # Create a button to make predictions based on custom inputs\n",
    "#         predict_button = widgets.Button(description=\"Make Prediction\")\n",
    "#         predict_button.on_click(make_prediction)\n",
    "#         display(predict_button)\n",
    "\n",
    "# # Function to handle the \"Make Prediction\" button click\n",
    "# def make_prediction(b):\n",
    "#     global pipeline  # Access the trained pipeline\n",
    "#     with output:\n",
    "#         output.clear_output(wait=True)\n",
    "#         print(\"Make Prediction button clicked...\")\n",
    "\n",
    "#         # Collect custom inputs from the dropdown selections\n",
    "#         custom_input = {feature: dropdown.value for feature, dropdown in feature_dropdowns.items()}\n",
    "#         custom_input_df = pd.DataFrame([custom_input])\n",
    "\n",
    "#         print(\"Custom input created:\")\n",
    "#         print(custom_input_df)\n",
    "\n",
    "#         # Ensure we use the pipeline's model to make predictions\n",
    "#         if pipeline is not None:\n",
    "#             try:\n",
    "#                 # Convert the input features into the expected format\n",
    "#                 prediction = pipeline.predict(custom_input_df)  # Use pipeline to predict\n",
    "                \n",
    "#                 print(f\"Predicted value for custom input: {prediction}\")\n",
    "#             except Exception as e:\n",
    "#                 print(f\"Error during prediction: {e}\")\n",
    "#         else:\n",
    "#             print(\"Pipeline not initialized properly. Please run the pipeline first.\")\n",
    "\n",
    "# # Adding zero_division=0 to metrics calculation inside MLClassifierPipeline\n",
    "# class MLClassifierPipeline:\n",
    "#     def __init__(self, df, target_column, display_analytics):\n",
    "#         self.df = df\n",
    "#         self.target_column = target_column\n",
    "#         self.display_analytics = display_analytics\n",
    "    \n",
    "#     def preprocess_data(self):\n",
    "#         # Preprocessing logic (target encoding done before)\n",
    "#         self.X = self.df.drop(self.target_column, axis=1)\n",
    "#         self.y = self.df[self.target_column]\n",
    "    \n",
    "#     def run_pipeline(self, knn_model=None):\n",
    "#         # Add your model training and selection logic here\n",
    "#         self.preprocess_data()\n",
    "        \n",
    "#         if knn_model is None:\n",
    "#             knn_model = KNeighborsClassifier(n_neighbors=3)  # Default to 3 if not provided\n",
    "        \n",
    "#         # Split the data (you can change this logic as needed)\n",
    "#         self.X_train, self.X_test, self.y_train, self.y_test = self.X[:2], self.X[2:], self.y[:2], self.y[2:]\n",
    "\n",
    "#         # Fit and predict\n",
    "#         clf = Pipeline(steps=[('model', knn_model)])\n",
    "#         clf.fit(self.X_train, self.y_train)\n",
    "#         y_pred_train = clf.predict(self.X_train)\n",
    "#         y_pred_test = clf.predict(self.X_test)\n",
    "        \n",
    "#         # Metrics calculation\n",
    "#         train_accuracy = accuracy_score(self.y_train, y_pred_train)\n",
    "#         test_accuracy = accuracy_score(self.y_test, y_pred_test)\n",
    "#         precision = precision_score(self.y_test, y_pred_test, average='weighted', zero_division=0)\n",
    "#         recall = recall_score(self.y_test, y_pred_test, average='weighted', zero_division=0)\n",
    "        \n",
    "#         print(f\"Train Accuracy: {train_accuracy}, Test Accuracy: {test_accuracy}\")\n",
    "#         print(f\"Precision: {precision}, Recall: {recall}\")\n",
    "\n",
    "#     def get_feature_importance(self):\n",
    "#         # Feature importance logic, if applicable\n",
    "#         pass\n",
    "\n",
    "#     def predict(self, X):\n",
    "#         # Predict using the trained pipeline (ensure this logic is correct based on your model)\n",
    "#         return [\"Predicted_Label\"]\n",
    "\n",
    "# # Connect the run button to the pipeline function\n",
    "# run_button.on_click(create_feature_dropdowns)\n",
    "\n",
    "# # Display the initial run button and output area\n",
    "# display(run_button, output)\n"
   ]
  },
  {
   "cell_type": "code",
   "execution_count": 30,
   "id": "c73ca40e-3299-40fd-a808-f5abd626a2bc",
   "metadata": {},
   "outputs": [
    {
     "data": {
      "application/vnd.jupyter.widget-view+json": {
       "model_id": "f065dc55f77947fc8a56ea3d844036a7",
       "version_major": 2,
       "version_minor": 0
      },
      "text/plain": [
       "Button(description='Run Pipeline', style=ButtonStyle())"
      ]
     },
     "metadata": {},
     "output_type": "display_data"
    },
    {
     "data": {
      "application/vnd.jupyter.widget-view+json": {
       "model_id": "0e7c34c09ab141adb2e696650786c111",
       "version_major": 2,
       "version_minor": 0
      },
      "text/plain": [
       "Output()"
      ]
     },
     "metadata": {},
     "output_type": "display_data"
    }
   ],
   "source": [
    "# import pandas as pd\n",
    "# import ipywidgets as widgets\n",
    "# from IPython.display import display\n",
    "# from sklearn.neighbors import KNeighborsClassifier\n",
    "# from sklearn.pipeline import Pipeline\n",
    "# from sklearn.metrics import accuracy_score, precision_score, recall_score\n",
    "# from sklearn.preprocessing import LabelEncoder\n",
    "# from test import MLClassifierPipeline  # Assuming this is your actual pipeline\n",
    "\n",
    "# # Simulated data with a target column 'poisonous'\n",
    "# columns = ['feature1', 'feature2', 'feature3', 'poisonous']\n",
    "# data = [['a', 'x', 'p', 0], ['b', 'y', 'q', 1], ['c', 'z', 'r', 0]]\n",
    "# df = pd.DataFrame(data, columns=columns)\n",
    "\n",
    "# # Encode categorical features (Label Encoding)\n",
    "# label_encoders = {}\n",
    "# for feature in ['feature1', 'feature2', 'feature3']:\n",
    "#     le = LabelEncoder()\n",
    "#     df[feature] = le.fit_transform(df[feature])\n",
    "#     label_encoders[feature] = le\n",
    "\n",
    "# # Create a dictionary to hold dropdowns for each feature\n",
    "# feature_dropdowns = {}\n",
    "\n",
    "# # Button to run the pipeline\n",
    "# run_button = widgets.Button(description=\"Run Pipeline\")\n",
    "# output = widgets.Output()\n",
    "\n",
    "# # Placeholder for the model pipeline\n",
    "# pipeline = None\n",
    "\n",
    "# # Function to create dropdowns for feature values\n",
    "# def create_feature_dropdowns(b):\n",
    "#     global pipeline  # Make sure pipeline is accessible in prediction\n",
    "#     with output:\n",
    "#         output.clear_output()  # Clear previous output\n",
    "#         print(\"Pipeline running...\")  # Debugging print\n",
    "        \n",
    "#         # Initialize and run your pipeline\n",
    "#         pipeline = MLClassifierPipeline(df=df, target_column='poisonous', display_analytics=True)\n",
    "        \n",
    "#         # Adjust n_neighbors based on the size of the dataset\n",
    "#         n_neighbors = min(2, len(df))\n",
    "        \n",
    "#         # Set up the KNeighborsClassifier with adjusted n_neighbors\n",
    "#         knn_model = KNeighborsClassifier(n_neighbors=n_neighbors)\n",
    "        \n",
    "#         # Train and predict\n",
    "#         pipeline.run_pipeline(knn_model=knn_model)\n",
    "#         pipeline.get_feature_importance()\n",
    "        \n",
    "#         print(\"Pipeline finished. Creating dropdowns for feature selection...\")\n",
    "\n",
    "#         # Create a dropdown for each feature (excluding the target column) based on unique values\n",
    "#         for feature in df.drop('poisonous', axis=1).columns:\n",
    "#             unique_values = df[feature].unique().tolist()\n",
    "#             feature_dropdowns[feature] = widgets.Dropdown(\n",
    "#                 options=unique_values,\n",
    "#                 description=feature,\n",
    "#                 value=unique_values[0]  # Set default to first unique value\n",
    "#             )\n",
    "#         display(*feature_dropdowns.values())  # Display dropdowns\n",
    "        \n",
    "#         # Create a button to make predictions based on custom inputs\n",
    "#         predict_button = widgets.Button(description=\"Make Prediction\")\n",
    "#         predict_button.on_click(make_prediction)\n",
    "#         display(predict_button)\n",
    "\n",
    "# # Function to handle the \"Make Prediction\" button click\n",
    "# def make_prediction(b):\n",
    "#     global pipeline  # Access the trained pipeline\n",
    "#     with output:\n",
    "#         output.clear_output(wait=True)\n",
    "#         print(\"Make Prediction button clicked...\")\n",
    "\n",
    "#         # Collect custom inputs from the dropdown selections\n",
    "#         custom_input = {}\n",
    "#         for feature, dropdown in feature_dropdowns.items():\n",
    "#             selected_value = dropdown.value\n",
    "#             # Ensure we encode the selected value back to the format the model expects\n",
    "#             custom_input[feature] = [selected_value]\n",
    "\n",
    "#         custom_input_df = pd.DataFrame(custom_input)\n",
    "\n",
    "#         print(\"Custom input created:\")\n",
    "#         print(custom_input_df)\n",
    "\n",
    "#         # Ensure we use the pipeline's model to make predictions\n",
    "#         if pipeline is not None:\n",
    "#             try:\n",
    "#                 # Perform prediction with the selected inputs\n",
    "#                 prediction = pipeline.predict(custom_input_df)\n",
    "#                 print(f\"Predicted value for custom input: {prediction}\")\n",
    "#             except Exception as e:\n",
    "#                 print(f\"Error during prediction: {e}\")\n",
    "#         else:\n",
    "#             print(\"Pipeline not initialized properly. Please run the pipeline first.\")\n",
    "\n",
    "# # Adding zero_division=0 to metrics calculation inside MLClassifierPipeline\n",
    "# class MLClassifierPipeline:\n",
    "#     def __init__(self, df, target_column, display_analytics):\n",
    "#         self.df = df\n",
    "#         self.target_column = target_column\n",
    "#         self.display_analytics = display_analytics\n",
    "    \n",
    "#     def preprocess_data(self):\n",
    "#         # Preprocessing logic\n",
    "#         self.X = self.df.drop(self.target_column, axis=1)\n",
    "#         self.y = self.df[self.target_column]\n",
    "    \n",
    "#     def run_pipeline(self, knn_model=None):\n",
    "#         # Add your model training and selection logic here\n",
    "#         self.preprocess_data()\n",
    "        \n",
    "#         if knn_model is None:\n",
    "#             knn_model = KNeighborsClassifier(n_neighbors=3)  # Default to 3 if not provided\n",
    "        \n",
    "#         # Split the data (you can change this logic as needed)\n",
    "#         self.X_train, self.X_test, self.y_train, self.y_test = self.X[:2], self.X[2:], self.y[:2], self.y[2:]\n",
    "\n",
    "#         # Fit and predict\n",
    "#         clf = Pipeline(steps=[('model', knn_model)])\n",
    "#         clf.fit(self.X_train, self.y_train)\n",
    "#         y_pred_train = clf.predict(self.X_train)\n",
    "#         y_pred_test = clf.predict(self.X_test)\n",
    "        \n",
    "#         # Metrics calculation\n",
    "#         train_accuracy = accuracy_score(self.y_train, y_pred_train)\n",
    "#         test_accuracy = accuracy_score(self.y_test, y_pred_test)\n",
    "#         precision = precision_score(self.y_test, y_pred_test, average='weighted', zero_division=0)\n",
    "#         recall = recall_score(self.y_test, y_pred_test, average='weighted', zero_division=0)\n",
    "        \n",
    "#         print(f\"Train Accuracy: {train_accuracy}, Test Accuracy: {test_accuracy}\")\n",
    "#         print(f\"Precision: {precision}, Recall: {recall}\")\n",
    "\n",
    "#     def get_feature_importance(self):\n",
    "#         # Feature importance logic, if applicable\n",
    "#         pass\n",
    "\n",
    "#     def predict(self, X):\n",
    "#         # Predict using the trained pipeline (ensure this logic is correct based on your model)\n",
    "#         clf = KNeighborsClassifier(n_neighbors=min(2, len(X)))  # Create a new classifier with correct neighbors\n",
    "#         clf.fit(self.X_train, self.y_train)\n",
    "#         return clf.predict(X)\n",
    "\n",
    "# # Connect the run button to the pipeline function\n",
    "# run_button.on_click(create_feature_dropdowns)\n",
    "\n",
    "# # Display the initial run button and output area\n",
    "# display(run_button, output)\n"
   ]
  },
  {
   "cell_type": "code",
   "execution_count": 34,
   "id": "7222c804-dd8f-4314-87df-51cb3616bdc9",
   "metadata": {},
   "outputs": [
    {
     "data": {
      "application/vnd.jupyter.widget-view+json": {
       "model_id": "7ea386e63336470c99f10b33a113859b",
       "version_major": 2,
       "version_minor": 0
      },
      "text/plain": [
       "Dropdown(description='Model:', options=('Decision Tree', 'Random Forest', 'Logistic Regression'), value='Decis…"
      ]
     },
     "metadata": {},
     "output_type": "display_data"
    },
    {
     "data": {
      "application/vnd.jupyter.widget-view+json": {
       "model_id": "65e9cde8a3b2410dafc571707bc17166",
       "version_major": 2,
       "version_minor": 0
      },
      "text/plain": [
       "Button(description='Run Pipeline', style=ButtonStyle())"
      ]
     },
     "metadata": {},
     "output_type": "display_data"
    },
    {
     "data": {
      "application/vnd.jupyter.widget-view+json": {
       "model_id": "5626cbe2e40c44b2ad787ee0ce6743aa",
       "version_major": 2,
       "version_minor": 0
      },
      "text/plain": [
       "Output()"
      ]
     },
     "metadata": {},
     "output_type": "display_data"
    }
   ],
   "source": [
    "# import pandas as pd\n",
    "# from test import MLClassifierPipeline\n",
    "# from ucimlrepo import fetch_ucirepo\n",
    "# import ipywidgets as widgets\n",
    "# from IPython.display import display\n",
    "\n",
    "# # Fetch dataset\n",
    "# mushroom = fetch_ucirepo(id=73)\n",
    "\n",
    "# # Data (as pandas DataFrames)\n",
    "# X = mushroom.data.features\n",
    "# y = mushroom.data.targets\n",
    "\n",
    "# # Combine features and target into a single DataFrame\n",
    "# df = pd.concat([X, y], axis=1)\n",
    "\n",
    "# # Create a dropdown widget for selecting the model\n",
    "# model_dropdown = widgets.Dropdown(\n",
    "#     options=['Decision Tree', 'Random Forest', 'Logistic Regression'],\n",
    "#     value='Decision Tree',\n",
    "#     description='Model:'\n",
    "# )\n",
    "\n",
    "# # Button to run the pipeline\n",
    "# run_button = widgets.Button(description=\"Run Pipeline\")\n",
    "# output = widgets.Output()\n",
    "\n",
    "# # Create a list to hold the dropdowns for each feature\n",
    "# feature_dropdowns = {}\n",
    "# pipeline = None  # Placeholder for the pipeline object\n",
    "\n",
    "# # Function to create dropdowns for feature values\n",
    "# def create_feature_dropdowns():\n",
    "#     global feature_dropdowns\n",
    "#     feature_dropdowns = {}\n",
    "    \n",
    "#     # Create a dropdown for each feature based on its unique values\n",
    "#     for feature in X.columns:\n",
    "#         unique_values = X[feature].unique().tolist()\n",
    "#         feature_dropdowns[feature] = widgets.Dropdown(\n",
    "#             options=unique_values,\n",
    "#             description=feature,\n",
    "#             value=unique_values[0]  # Set the default to the first unique value\n",
    "#         )\n",
    "#     # Display the dropdowns\n",
    "#     display(*feature_dropdowns.values())\n",
    "\n",
    "# # Define a function to run the pipeline\n",
    "# def run_pipeline(b):\n",
    "#     global pipeline  # Access the pipeline globally\n",
    "#     with output:\n",
    "#         output.clear_output()  # Clear previous output\n",
    "#         print(\"Running the pipeline...\")\n",
    "\n",
    "#         # Initialize the pipeline\n",
    "#         pipeline = MLClassifierPipeline(\n",
    "#             df=df,\n",
    "#             target_column='poisonous',  # Replace with your target column name\n",
    "#             display_analytics=True\n",
    "#         )\n",
    "#         pipeline.run_pipeline()\n",
    "#         pipeline.get_feature_importance()\n",
    "\n",
    "#         # Load the selected model\n",
    "#         loaded_model = pipeline.load_model(model_dropdown.value)\n",
    "#         if loaded_model is not None:\n",
    "#             predictions = loaded_model.predict(pipeline.X_test)\n",
    "#             print(\"Predictions on test set:\")\n",
    "#             print(predictions)\n",
    "        \n",
    "#         # Create feature dropdowns after the pipeline is run\n",
    "#         create_feature_dropdowns()\n",
    "\n",
    "#         # Create a button to make predictions based on custom inputs\n",
    "#         predict_button = widgets.Button(description=\"Make Prediction\")\n",
    "#         predict_button.on_click(make_prediction)\n",
    "#         display(predict_button)\n",
    "\n",
    "# # Function to create a custom input row and make predictions\n",
    "# def make_prediction(b):\n",
    "#     global pipeline\n",
    "#     with output:\n",
    "#         output.clear_output(wait=True)\n",
    "#         print(\"Making prediction with selected feature values...\")\n",
    "\n",
    "#         # Collect custom inputs from the dropdown selections\n",
    "#         custom_input = {feature: [dropdown.value] for feature, dropdown in feature_dropdowns.items()}\n",
    "#         custom_input_df = pd.DataFrame(custom_input)\n",
    "\n",
    "#         print(\"Custom input created:\")\n",
    "#         print(custom_input_df)\n",
    "\n",
    "#         # Use the trained model to make a prediction\n",
    "#         loaded_model = pipeline.load_model(model_dropdown.value)\n",
    "#         if loaded_model is not None:\n",
    "#             try:\n",
    "#                 prediction = loaded_model.predict(custom_input_df)\n",
    "#                 print(f\"Custom Input Prediction: {prediction}\")\n",
    "#             except Exception as e:\n",
    "#                 print(f\"Error during prediction: {e}\")\n",
    "\n",
    "# # Connect the button to the function\n",
    "# run_button.on_click(run_pipeline)\n",
    "\n",
    "# # Display the widgets and output area\n",
    "# display(model_dropdown, run_button, output)\n"
   ]
  },
  {
   "cell_type": "code",
   "execution_count": 1,
   "id": "d92addeb-3ac9-4071-b401-7b2ae984608b",
   "metadata": {},
   "outputs": [
    {
     "data": {
      "application/vnd.jupyter.widget-view+json": {
       "model_id": "7279cfa8761e4ad7a77c253b0109e00d",
       "version_major": 2,
       "version_minor": 0
      },
      "text/plain": [
       "Dropdown(description='Model:', options=('Decision Tree', 'Random Forest', 'Logistic Regression'), value='Decis…"
      ]
     },
     "metadata": {},
     "output_type": "display_data"
    },
    {
     "data": {
      "application/vnd.jupyter.widget-view+json": {
       "model_id": "7f10703e52f24a389958002743037c14",
       "version_major": 2,
       "version_minor": 0
      },
      "text/plain": [
       "Button(description='Run Pipeline', style=ButtonStyle())"
      ]
     },
     "metadata": {},
     "output_type": "display_data"
    },
    {
     "data": {
      "application/vnd.jupyter.widget-view+json": {
       "model_id": "1dc26b5c7f7b403691476bde882f7cdf",
       "version_major": 2,
       "version_minor": 0
      },
      "text/plain": [
       "Output()"
      ]
     },
     "metadata": {},
     "output_type": "display_data"
    }
   ],
   "source": [
    "# !pip install seaborn --upgrade\n",
    "import pandas as pd\n",
    "from test import MLClassifierPipeline\n",
    "from ucimlrepo import fetch_ucirepo\n",
    "import ipywidgets as widgets\n",
    "from IPython.display import display\n",
    "\n",
    "# Fetch dataset\n",
    "mushroom = fetch_ucirepo(id=73)\n",
    "\n",
    "# Data (as pandas DataFrames)\n",
    "X = mushroom.data.features\n",
    "y = mushroom.data.targets\n",
    "\n",
    "# Combine features and target into a single DataFrame\n",
    "df = pd.concat([X, y], axis=1)\n",
    "\n",
    "# Create a dropdown widget for selecting the model\n",
    "model_dropdown = widgets.Dropdown(\n",
    "    options=['Decision Tree', 'Random Forest', 'Logistic Regression'],\n",
    "    value='Decision Tree',\n",
    "    description='Model:'\n",
    ")\n",
    "\n",
    "# Button to run the pipeline\n",
    "run_button = widgets.Button(description=\"Run Pipeline\")\n",
    "output = widgets.Output()\n",
    "\n",
    "# Create a list to hold the dropdowns for each feature\n",
    "feature_dropdowns = {}\n",
    "pipeline = None  # Placeholder for the pipeline object\n",
    "\n",
    "# Function to create dropdowns for feature values\n",
    "def create_feature_dropdowns():\n",
    "    global feature_dropdowns\n",
    "    feature_dropdowns = {}\n",
    "    \n",
    "    # Create a dropdown for each feature based on its unique values (before encoding)\n",
    "    for feature in X.columns:\n",
    "        unique_values = X[feature].unique().tolist()\n",
    "        feature_dropdowns[feature] = widgets.Dropdown(\n",
    "            options=unique_values,\n",
    "            description=feature,\n",
    "            value=unique_values[0]  # Set the default to the first unique value\n",
    "        )\n",
    "    # Display the dropdowns\n",
    "    display(*feature_dropdowns.values())\n",
    "\n",
    "# Define a function to run the pipeline\n",
    "def run_pipeline(b):\n",
    "    global pipeline  # Access the pipeline globally\n",
    "    with output:\n",
    "        output.clear_output()  # Clear previous output\n",
    "        print(\"Running the pipeline...\")\n",
    "\n",
    "        # Initialize the pipeline\n",
    "        pipeline = MLClassifierPipeline(\n",
    "            df=df,\n",
    "            target_column='poisonous',  # Replace with your target column name\n",
    "            display_analytics=True\n",
    "        )\n",
    "        pipeline.run_pipeline()\n",
    "        pipeline.get_feature_importance()\n",
    "\n",
    "        # Load the selected model\n",
    "        loaded_model = pipeline.load_model(model_dropdown.value)\n",
    "        if loaded_model is not None:\n",
    "            predictions = loaded_model.predict(pipeline.X_test)\n",
    "            print(\"Predictions on test set:\")\n",
    "            print(predictions)\n",
    "        \n",
    "        # Create feature dropdowns after the pipeline is run\n",
    "        create_feature_dropdowns()\n",
    "\n",
    "        # Create a button to make predictions based on custom inputs\n",
    "        predict_button = widgets.Button(description=\"Make Prediction\")\n",
    "        predict_button.on_click(make_prediction)\n",
    "        display(predict_button)\n",
    "\n",
    "# Function to create a custom input row and make predictions\n",
    "def make_prediction(b):\n",
    "    global pipeline\n",
    "    with output:\n",
    "        output.clear_output(wait=True)\n",
    "        print(\"Making prediction with selected feature values...\")\n",
    "\n",
    "        # Collect custom inputs from the dropdown selections (original feature values)\n",
    "        custom_input = {feature: [dropdown.value] for feature, dropdown in feature_dropdowns.items()}\n",
    "        custom_input_df = pd.DataFrame(custom_input)\n",
    "\n",
    "        # print(\"Custom input created (before encoding):\")\n",
    "        # print(custom_input_df)\n",
    "\n",
    "        # Use the pipeline's preprocessor to encode the input\n",
    "        # Extract the pipeline's preprocessor (OneHotEncoder and StandardScaler)\n",
    "        preprocessor = pipeline.preprocessor\n",
    "        custom_input_encoded = preprocessor.transform(custom_input_df)\n",
    "\n",
    "        # print(\"Encoded custom input (after encoding):\")\n",
    "        # print(custom_input_encoded)\n",
    "\n",
    "        # Use the trained model to make a prediction\n",
    "        loaded_model = pipeline.load_model(model_dropdown.value)\n",
    "        if loaded_model is not None:\n",
    "            try:\n",
    "                prediction = loaded_model.predict(custom_input_encoded)\n",
    "                # print(f\"Custom Input Prediction: {prediction}\")\n",
    "                print(f\"Prediction: {prediction}\")\n",
    "            except Exception as e:\n",
    "                print(f\"Error during prediction: {e}\")\n",
    "\n",
    "# Connect the button to the function\n",
    "run_button.on_click(run_pipeline)\n",
    "\n",
    "# Display widgets and output area\n",
    "display(model_dropdown, run_button, output)\n"
   ]
  },
  {
   "cell_type": "code",
   "execution_count": null,
   "id": "f00e8766-5850-4200-b0d3-6b13dc38b3e0",
   "metadata": {},
   "outputs": [],
   "source": []
  }
 ],
 "metadata": {
  "kernelspec": {
   "display_name": "Python 3 (ipykernel)",
   "language": "python",
   "name": "python3"
  },
  "language_info": {
   "codemirror_mode": {
    "name": "ipython",
    "version": 3
   },
   "file_extension": ".py",
   "mimetype": "text/x-python",
   "name": "python",
   "nbconvert_exporter": "python",
   "pygments_lexer": "ipython3",
   "version": "3.11.7"
  }
 },
 "nbformat": 4,
 "nbformat_minor": 5
}
